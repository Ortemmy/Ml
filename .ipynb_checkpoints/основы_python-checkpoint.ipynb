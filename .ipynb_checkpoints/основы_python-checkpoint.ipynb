{
 "cells": [
  {
   "cell_type": "markdown",
   "metadata": {
    "id": "M-DGa20PaHnu"
   },
   "source": [
    "#Задача 1\n",
    "Написать функцию на вход которой подается строка, состоящая из латинских букв.\n",
    "Функция должна вернуть количество гласных букв (a, e, i, o, u) в этой строке. Написать тесты для кода"
   ]
  },
  {
   "cell_type": "code",
   "execution_count": null,
   "metadata": {
    "id": "XvX8X_JJ6PCb"
   },
   "outputs": [],
   "source": [
    "def count_vowels(s):\n",
    "  vowels = \"aeiouAEIOU\"\n",
    "  count = 0\n",
    "  for char in s:\n",
    "    if char in vowels:\n",
    "      count += 1\n",
    "  return count\n",
    "\n",
    "\n",
    "import unittest\n",
    "\n",
    "\n",
    "class TestCountVowels(unittest.TestCase):\n",
    "  def test_empty_string(self):\n",
    "    self.assertEqual(count_vowels(\"\"), 0)\n",
    "\n",
    "  def test_no_vowels(self):\n",
    "    self.assertEqual(count_vowels(\"bcdfg\"), 0)\n",
    "\n",
    "  def test_only_vowels(self):\n",
    "    self.assertEqual(count_vowels(\"aeiou\"), 5)\n",
    "    self.assertEqual(count_vowels(\"AEIOU\"), 5)\n",
    "\n",
    "  def test_mixed_case(self):\n",
    "    self.assertEqual(count_vowels(\"AbCdEfG\"), 2)\n",
    "\n",
    "  def test_mixed_letters(self):\n",
    "    self.assertEqual(count_vowels(\"hello\"), 2)\n",
    "    self.assertEqual(count_vowels(\"HELLO world\"), 3)\n",
    "\n",
    "  def test_long_string(self):\n",
    "    self.assertEqual(count_vowels(\"abcdefghijklmnopqrstuvwxyz\"), 5)\n",
    "    self.assertEqual(count_vowels(\"ABCDEFGHIJKLMNOPQRSTUVWXYZ\"), 5)\n",
    "\n",
    "unittest.main(argv=[''], exit=False)\n"
   ]
  },
  {
   "cell_type": "markdown",
   "metadata": {
    "id": "t2ClV_Y0bbr6"
   },
   "source": [
    "# Задача 2\n",
    "Написать функцию на вход, которой подается строка. Функция должна вернуть true, если\n",
    "каждый символ в строке встречается только 1 раз, иначе должна вернуть false. Написать тесты для кода"
   ]
  },
  {
   "cell_type": "code",
   "execution_count": null,
   "metadata": {
    "id": "FppbECao6VIz"
   },
   "outputs": [],
   "source": [
    "def all_unique_chars(s):\n",
    "    seen = set()\n",
    "    for char in s:\n",
    "      if char in seen:\n",
    "        return False\n",
    "      seen.add(char)\n",
    "    return True\n",
    "\n",
    "\n",
    "class TestAllUniqueChars(unittest.TestCase):\n",
    "\n",
    "  def test_empty_string(self):\n",
    "    self.assertTrue(all_unique_chars(\"\"))\n",
    "\n",
    "  def test_unique_chars(self):\n",
    "    self.assertTrue(all_unique_chars(\"abc\"))\n",
    "    self.assertTrue(all_unique_chars(\"ABCDE\"))\n",
    "\n",
    "  def test_repeated_chars(self):\n",
    "    self.assertFalse(all_unique_chars(\"aabbcc\"))\n",
    "    self.assertFalse(all_unique_chars(\"aa\"))\n",
    "    self.assertFalse(all_unique_chars(\"abcabc\"))\n",
    "\n",
    "  def test_single_char(self):\n",
    "    self.assertTrue(all_unique_chars(\"a\"))\n",
    "\n",
    "  def test_mixed_case(self):\n",
    "    self.assertTrue(all_unique_chars(\"aAbBcC\"))\n",
    "    self.assertFalse(all_unique_chars(\"aAbBcCa\"))\n",
    "\n",
    "  def test_special_chars(self):\n",
    "    self.assertTrue(all_unique_chars(\"!@#$%^\"))\n",
    "    self.assertFalse(all_unique_chars(\"!@#$$%^\"))\n",
    "\n",
    "\n",
    "unittest.main(argv=[''], exit=False)"
   ]
  },
  {
   "cell_type": "markdown",
   "metadata": {
    "id": "udRiIK1cdt6E"
   },
   "source": [
    "# Задача 3\n",
    "Написать функцию, которая принимает положительное число и возвращает количество\n",
    "бит равных 1 в этом числе. Написать тесты для кода"
   ]
  },
  {
   "cell_type": "code",
   "execution_count": null,
   "metadata": {
    "id": "6tkfDJRz6dp_"
   },
   "outputs": [],
   "source": [
    "def count_ones(n: int):\n",
    "    return bin(n).count('1')\n",
    "\n",
    "\n",
    "class TestCountOnes(unittest.TestCase):\n",
    "\n",
    "  def test_single_bit(self):\n",
    "    self.assertEqual(count_ones(1), 1)\n",
    "\n",
    "  def test_multiple_bits(self):\n",
    "    self.assertEqual(count_ones(5), 2)\n",
    "    self.assertEqual(count_ones(7), 3)\n",
    "\n",
    "  def test_power_of_two(self):\n",
    "    self.assertEqual(count_ones(2), 1)\n",
    "    self.assertEqual(count_ones(8), 1)\n",
    "\n",
    "  def test_large_number(self):\n",
    "    self.assertEqual(count_ones(1023), 10)\n",
    "\n",
    "  def test_edge_case(self):\n",
    "    self.assertEqual(count_ones(0), 0)\n",
    "\n",
    "  def test_highest_bit(self):\n",
    "    self.assertEqual(count_ones(2 ** 31), 1)\n",
    "\n",
    "unittest.main(argv=[''], exit=False)\n",
    "\n",
    "\n"
   ]
  },
  {
   "cell_type": "markdown",
   "metadata": {
    "id": "26dDUz-Ae17N"
   },
   "source": [
    "# Задача 4\n",
    "Написать функцию, которая принимает положительное число. Функция должна вернуть то,\n",
    "сколько раз необходимо перемножать цифры числа или результат перемножения, чтобы\n",
    "получилось число состоящее из одной цифры.\n",
    "Например, для входного числа:\n",
    "· 39 функция должна вернуть 3, так как 3*9=27 => 2*7=14 => 1*4=4\n",
    "· 4 функция должна вернуть 0, так как число уже состоит из одной цифры\n",
    "· 999 функция должна вернуть 4, так как 9*9*9=729 => 7*2*9=126 => 1*2*6=12 =>\n",
    "1*2=2. Написать тесты для кода"
   ]
  },
  {
   "cell_type": "code",
   "execution_count": null,
   "metadata": {
    "id": "BH1A_Mgi6i4G"
   },
   "outputs": [],
   "source": []
  },
  {
   "cell_type": "code",
   "execution_count": null,
   "metadata": {},
   "outputs": [],
   "source": [
    "def magic(n):\n",
    "    count = 0\n",
    "    while n >= 10:\n",
    "        res = 1\n",
    "        for char in str(n):\n",
    "            res *= int(char)\n",
    "        n = res\n",
    "        count += 1\n",
    "    return count \n",
    "\n",
    "\n",
    "class TestMagicFunction(unittest.TestCase):\n",
    "    def test_single_digit(self):\n",
    "        \"\"\"Тест для числа, состоящего из одной цифры\"\"\"\n",
    "        self.assertEqual(magic(4), 0)  # Число уже однозначное, шагов 0\n",
    "\n",
    "    def test_two_digit(self):\n",
    "        \"\"\"Тест для двухзначного числа\"\"\"\n",
    "        self.assertEqual(magic(22), 1)  # 22 -> 4, шагов 1\n",
    "\n",
    "    def test_three_digit(self):\n",
    "        \"\"\"Тест для трехзначного числа\"\"\"\n",
    "        self.assertEqual(magic(39), 3)  # 39 -> 27 -> 14 -> 4, шагов 3\n",
    "\n",
    "    def test_large_number(self):\n",
    "        \"\"\"Тест для большого числа\"\"\"\n",
    "        self.assertEqual(magic(999), 4)  # 999 -> 729 -> 126 -> 12 -> 2, шагов 4\n",
    "\n",
    "    def test_edge_case(self):\n",
    "        \"\"\"Тест для числа 0 (это особый случай)\"\"\"\n",
    "        self.assertEqual(magic(0), 0)  # 0 уже состоит из одной цифры\n",
    "\n",
    "    def test_single_digit_edge_case(self):\n",
    "        \"\"\"Тест для числа 1 (это тоже уже однозначное число)\"\"\"\n",
    "        self.assertEqual(magic(1), 0)  # 1 уже однозначное\n",
    "\n",
    "    def test_non_trivial_case(self):\n",
    "        \"\"\"Тест для числа, требующего нескольких шагов\"\"\"\n",
    "        self.assertEqual(magic(987), 3)  # 987 -> 504 -> 0, шагов 3\n",
    "\n",
    "\n",
    "unittest.main(argv=[''], exit=False)\n"
   ]
  },
  {
   "cell_type": "markdown",
   "metadata": {
    "id": "0nS-kIa8g8vd"
   },
   "source": [
    "# Задача 5\n",
    "Написать функцию, которая принимает два целочисленных вектора одинаковой длины и\n",
    "возвращает среднеквадратическое отклонение двух векторов. Написать тесты для кода"
   ]
  },
  {
   "cell_type": "code",
   "execution_count": null,
   "metadata": {
    "id": "8iphx4LM6xbx"
   },
   "outputs": [],
   "source": [
    "def mse(pred, true):\n",
    "    # Your code goes here\n",
    "    pass"
   ]
  },
  {
   "cell_type": "markdown",
   "metadata": {
    "id": "vpIPKL439zkw"
   },
   "source": [
    "# Задача 6\n",
    "Написать функцию, принимающая целое положительное число. Функция должна вернуть\n",
    "строку вида “(n1**p1)(n2**p2)…(nk**pk)” представляющая разложение числа на простые\n",
    "множители (если pi == 1, то выводить только ni).\n",
    "Например, для числа 86240 функция должна вернуть “(2**5)(5)(7**2)(11)”. Написать тесты для кода"
   ]
  },
  {
   "cell_type": "code",
   "execution_count": null,
   "metadata": {
    "id": "pFebmcZk94Jw"
   },
   "outputs": [],
   "source": [
    "# Your code goes here"
   ]
  },
  {
   "cell_type": "markdown",
   "metadata": {
    "id": "ps2s0BudX7A2"
   },
   "source": [
    "# Задача 7\n",
    "Написать функцию, принимающая целое число n, задающее количество кубиков. Функция\n",
    "должна определить, можно ли из данного кол-ва кубиков построить пирамиду, то есть\n",
    "можно ли представить число n как 1^2+2^2+3^2+…+k^2. Если можно, то функция должна\n",
    "вернуть k, иначе строку “It is impossible”. Написать тесты для кода"
   ]
  },
  {
   "cell_type": "code",
   "execution_count": null,
   "metadata": {
    "id": "3YPjEXxhX_YT"
   },
   "outputs": [],
   "source": [
    "def pyramid(number):\n",
    "    # Your code goes here\n",
    "    pass"
   ]
  },
  {
   "cell_type": "markdown",
   "metadata": {
    "id": "KeKgmIdAQMEJ"
   },
   "source": [
    "# Задача 8\n",
    "Функция принимает на вход положительное число и определяет является ли оно сбалансированным, т.е. сумма цифр до средних равна сумме цифр после. Средними в случае нечетного числа цифр считать одну цифру, в случае четного - две средних. Написать тесты для кода"
   ]
  },
  {
   "cell_type": "code",
   "execution_count": null,
   "metadata": {
    "id": "gMAAqtqlQrZt"
   },
   "outputs": [],
   "source": [
    "# Your code goes here"
   ]
  }
 ],
 "metadata": {
  "colab": {
   "provenance": []
  },
  "kernelspec": {
   "display_name": "Python 3 (ipykernel)",
   "language": "python",
   "name": "python3"
  },
  "language_info": {
   "codemirror_mode": {
    "name": "ipython",
    "version": 3
   },
   "file_extension": ".py",
   "mimetype": "text/x-python",
   "name": "python",
   "nbconvert_exporter": "python",
   "pygments_lexer": "ipython3",
   "version": "3.11.7"
  }
 },
 "nbformat": 4,
 "nbformat_minor": 4
}
