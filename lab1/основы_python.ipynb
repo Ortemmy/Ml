{
  "cells": [
    {
      "cell_type": "markdown",
      "metadata": {
        "id": "M-DGa20PaHnu"
      },
      "source": [
        "#Задача 1\n",
        "Написать функцию на вход которой подается строка, состоящая из латинских букв.\n",
        "Функция должна вернуть количество гласных букв (a, e, i, o, u) в этой строке. Написать тесты для кода"
      ]
    },
    {
      "cell_type": "code",
      "execution_count": 2,
      "metadata": {
        "id": "XvX8X_JJ6PCb",
        "colab": {
          "base_uri": "https://localhost:8080/"
        },
        "outputId": "14c8b3c8-4deb-411d-e472-3178b938dd44"
      },
      "outputs": [
        {
          "output_type": "stream",
          "name": "stderr",
          "text": [
            "test_empty_string (__main__.TestCountVowels) ... ok\n",
            "test_long_string (__main__.TestCountVowels) ... ok\n",
            "test_mixed_case (__main__.TestCountVowels) ... ok\n",
            "test_mixed_letters (__main__.TestCountVowels) ... ok\n",
            "test_no_vowels (__main__.TestCountVowels) ... ok\n",
            "test_only_vowels (__main__.TestCountVowels) ... ok\n",
            "\n",
            "----------------------------------------------------------------------\n",
            "Ran 6 tests in 0.026s\n",
            "\n",
            "OK\n"
          ]
        }
      ],
      "source": [
        "\n",
        "import unittest\n",
        "def count_vowels(s):\n",
        "  vowels = \"aeiouAEIOU\"\n",
        "  count = 0\n",
        "  for char in s:\n",
        "    if char in vowels:\n",
        "      count += 1\n",
        "  return count\n",
        "\n",
        "\n",
        "\n",
        "\n",
        "class TestCountVowels(unittest.TestCase):\n",
        "  def test_empty_string(self):\n",
        "    self.assertEqual(count_vowels(\"\"), 0)\n",
        "\n",
        "  def test_no_vowels(self):\n",
        "    self.assertEqual(count_vowels(\"bcdfg\"), 0)\n",
        "\n",
        "  def test_only_vowels(self):\n",
        "    self.assertEqual(count_vowels(\"aeiou\"), 5)\n",
        "    self.assertEqual(count_vowels(\"AEIOU\"), 5)\n",
        "\n",
        "  def test_mixed_case(self):\n",
        "    self.assertEqual(count_vowels(\"AbCdEfG\"), 2)\n",
        "\n",
        "  def test_mixed_letters(self):\n",
        "    self.assertEqual(count_vowels(\"hello\"), 2)\n",
        "    self.assertEqual(count_vowels(\"HELLO world\"), 3)\n",
        "\n",
        "  def test_long_string(self):\n",
        "    self.assertEqual(count_vowels(\"abcdefghijklmnopqrstuvwxyz\"), 5)\n",
        "    self.assertEqual(count_vowels(\"ABCDEFGHIJKLMNOPQRSTUVWXYZ\"), 5)\n",
        "if __name__ == \"__main__\":\n",
        "    unittest.main(argv=[''], exit=False, verbosity=2)"
      ]
    },
    {
      "cell_type": "markdown",
      "metadata": {
        "id": "t2ClV_Y0bbr6"
      },
      "source": [
        "# Задача 2\n",
        "Написать функцию на вход, которой подается строка. Функция должна вернуть true, если\n",
        "каждый символ в строке встречается только 1 раз, иначе должна вернуть false. Написать тесты для кода"
      ]
    },
    {
      "cell_type": "code",
      "execution_count": 3,
      "metadata": {
        "id": "FppbECao6VIz",
        "colab": {
          "base_uri": "https://localhost:8080/"
        },
        "outputId": "effc3374-94b7-4627-cf37-e0b16fb1bf8f"
      },
      "outputs": [
        {
          "output_type": "stream",
          "name": "stderr",
          "text": [
            "test_empty_string (__main__.TestAllUniqueChars) ... ok\n",
            "test_mixed_case (__main__.TestAllUniqueChars) ... ok\n",
            "test_repeated_chars (__main__.TestAllUniqueChars) ... ok\n",
            "test_single_char (__main__.TestAllUniqueChars) ... ok\n",
            "test_special_chars (__main__.TestAllUniqueChars) ... ok\n",
            "test_unique_chars (__main__.TestAllUniqueChars) ... ok\n",
            "test_empty_string (__main__.TestCountVowels) ... ok\n",
            "test_long_string (__main__.TestCountVowels) ... ok\n",
            "test_mixed_case (__main__.TestCountVowels) ... ok\n",
            "test_mixed_letters (__main__.TestCountVowels) ... ok\n",
            "test_no_vowels (__main__.TestCountVowels) ... ok\n",
            "test_only_vowels (__main__.TestCountVowels) ... ok\n",
            "\n",
            "----------------------------------------------------------------------\n",
            "Ran 12 tests in 0.036s\n",
            "\n",
            "OK\n"
          ]
        }
      ],
      "source": [
        "def all_unique_chars(s):\n",
        "    seen = set()\n",
        "    for char in s:\n",
        "      if char in seen:\n",
        "        return False\n",
        "      seen.add(char)\n",
        "    return True\n",
        "\n",
        "\n",
        "class TestAllUniqueChars(unittest.TestCase):\n",
        "\n",
        "  def test_empty_string(self):\n",
        "    self.assertTrue(all_unique_chars(\"\"))\n",
        "\n",
        "  def test_unique_chars(self):\n",
        "    self.assertTrue(all_unique_chars(\"abc\"))\n",
        "    self.assertTrue(all_unique_chars(\"ABCDE\"))\n",
        "\n",
        "  def test_repeated_chars(self):\n",
        "    self.assertFalse(all_unique_chars(\"aabbcc\"))\n",
        "    self.assertFalse(all_unique_chars(\"aa\"))\n",
        "    self.assertFalse(all_unique_chars(\"abcabc\"))\n",
        "\n",
        "  def test_single_char(self):\n",
        "    self.assertTrue(all_unique_chars(\"a\"))\n",
        "\n",
        "  def test_mixed_case(self):\n",
        "    self.assertTrue(all_unique_chars(\"aAbBcC\"))\n",
        "    self.assertFalse(all_unique_chars(\"aAbBcCa\"))\n",
        "\n",
        "  def test_special_chars(self):\n",
        "    self.assertTrue(all_unique_chars(\"!@#$%^\"))\n",
        "    self.assertFalse(all_unique_chars(\"!@#$$%^\"))\n",
        "if __name__ == \"__main__\":\n",
        "    unittest.main(argv=[''], exit=False, verbosity=2)"
      ]
    },
    {
      "cell_type": "markdown",
      "metadata": {
        "id": "udRiIK1cdt6E"
      },
      "source": [
        "# Задача 3\n",
        "Написать функцию, которая принимает положительное число и возвращает количество\n",
        "бит равных 1 в этом числе. Написать тесты для кода"
      ]
    },
    {
      "cell_type": "code",
      "execution_count": 4,
      "metadata": {
        "id": "6tkfDJRz6dp_",
        "colab": {
          "base_uri": "https://localhost:8080/"
        },
        "outputId": "90c7b413-c197-43d7-f046-8951adf57583"
      },
      "outputs": [
        {
          "output_type": "stream",
          "name": "stderr",
          "text": [
            "test_empty_string (__main__.TestAllUniqueChars) ... ok\n",
            "test_mixed_case (__main__.TestAllUniqueChars) ... ok\n",
            "test_repeated_chars (__main__.TestAllUniqueChars) ... ok\n",
            "test_single_char (__main__.TestAllUniqueChars) ... ok\n",
            "test_special_chars (__main__.TestAllUniqueChars) ... ok\n",
            "test_unique_chars (__main__.TestAllUniqueChars) ... ok\n",
            "test_edge_case (__main__.TestCountOnes) ... ok\n",
            "test_highest_bit (__main__.TestCountOnes) ... ok\n",
            "test_large_number (__main__.TestCountOnes) ... ok\n",
            "test_multiple_bits (__main__.TestCountOnes) ... ok\n",
            "test_power_of_two (__main__.TestCountOnes) ... ok\n",
            "test_single_bit (__main__.TestCountOnes) ... ok\n",
            "test_empty_string (__main__.TestCountVowels) ... ok\n",
            "test_long_string (__main__.TestCountVowels) ... ok\n",
            "test_mixed_case (__main__.TestCountVowels) ... ok\n",
            "test_mixed_letters (__main__.TestCountVowels) ... ok\n",
            "test_no_vowels (__main__.TestCountVowels) ... ok\n",
            "test_only_vowels (__main__.TestCountVowels) ... ok\n",
            "\n",
            "----------------------------------------------------------------------\n",
            "Ran 18 tests in 0.064s\n",
            "\n",
            "OK\n"
          ]
        }
      ],
      "source": [
        "def count_ones(n: int):\n",
        "    return bin(n).count('1')\n",
        "\n",
        "\n",
        "class TestCountOnes(unittest.TestCase):\n",
        "\n",
        "  def test_single_bit(self):\n",
        "    self.assertEqual(count_ones(1), 1)\n",
        "\n",
        "  def test_multiple_bits(self):\n",
        "    self.assertEqual(count_ones(5), 2)\n",
        "    self.assertEqual(count_ones(7), 3)\n",
        "\n",
        "  def test_power_of_two(self):\n",
        "    self.assertEqual(count_ones(2), 1)\n",
        "    self.assertEqual(count_ones(8), 1)\n",
        "\n",
        "  def test_large_number(self):\n",
        "    self.assertEqual(count_ones(1023), 10)\n",
        "\n",
        "  def test_edge_case(self):\n",
        "    self.assertEqual(count_ones(0), 0)\n",
        "\n",
        "  def test_highest_bit(self):\n",
        "    self.assertEqual(count_ones(2 ** 31), 1)\n",
        "if __name__ == \"__main__\":\n",
        "    unittest.main(argv=[''], exit=False, verbosity=2)\n",
        "\n"
      ]
    },
    {
      "cell_type": "markdown",
      "metadata": {
        "id": "26dDUz-Ae17N"
      },
      "source": [
        "# Задача 4\n",
        "Написать функцию, которая принимает положительное число. Функция должна вернуть то,\n",
        "сколько раз необходимо перемножать цифры числа или результат перемножения, чтобы\n",
        "получилось число состоящее из одной цифры.\n",
        "Например, для входного числа:\n",
        "· 39 функция должна вернуть 3, так как 3*9=27 => 2*7=14 => 1*4=4\n",
        "· 4 функция должна вернуть 0, так как число уже состоит из одной цифры\n",
        "· 999 функция должна вернуть 4, так как 9*9*9=729 => 7*2*9=126 => 1*2*6=12 =>\n",
        "1*2=2. Написать тесты для кода"
      ]
    },
    {
      "cell_type": "code",
      "execution_count": null,
      "metadata": {
        "id": "BH1A_Mgi6i4G"
      },
      "outputs": [],
      "source": []
    },
    {
      "cell_type": "code",
      "execution_count": 6,
      "metadata": {
        "colab": {
          "base_uri": "https://localhost:8080/"
        },
        "id": "Dj8gBYJkITeD",
        "outputId": "629f41a0-dde3-45a2-d87b-c0ab84384ecd"
      },
      "outputs": [
        {
          "output_type": "stream",
          "name": "stderr",
          "text": [
            "test_empty_string (__main__.TestAllUniqueChars) ... ok\n",
            "test_mixed_case (__main__.TestAllUniqueChars) ... ok\n",
            "test_repeated_chars (__main__.TestAllUniqueChars) ... ok\n",
            "test_single_char (__main__.TestAllUniqueChars) ... ok\n",
            "test_special_chars (__main__.TestAllUniqueChars) ... ok\n",
            "test_unique_chars (__main__.TestAllUniqueChars) ... ok\n",
            "test_edge_case (__main__.TestCountOnes) ... ok\n",
            "test_highest_bit (__main__.TestCountOnes) ... ok\n",
            "test_large_number (__main__.TestCountOnes) ... ok\n",
            "test_multiple_bits (__main__.TestCountOnes) ... ok\n",
            "test_power_of_two (__main__.TestCountOnes) ... ok\n",
            "test_single_bit (__main__.TestCountOnes) ... ok\n",
            "test_empty_string (__main__.TestCountVowels) ... ok\n",
            "test_long_string (__main__.TestCountVowels) ... ok\n",
            "test_mixed_case (__main__.TestCountVowels) ... ok\n",
            "test_mixed_letters (__main__.TestCountVowels) ... ok\n",
            "test_no_vowels (__main__.TestCountVowels) ... ok\n",
            "test_only_vowels (__main__.TestCountVowels) ... ok\n",
            "test_edge_case (__main__.TestMagicFunction)\n",
            "Тест для числа 0 (это особый случай) ... ok\n",
            "test_large_number (__main__.TestMagicFunction)\n",
            "Тест для большого числа ... ok\n",
            "test_non_trivial_case (__main__.TestMagicFunction)\n",
            "Тест для числа, требующего нескольких шагов ... ok\n",
            "test_single_digit (__main__.TestMagicFunction)\n",
            "Тест для числа, состоящего из одной цифры ... ok\n",
            "test_single_digit_edge_case (__main__.TestMagicFunction)\n",
            "Тест для числа 1 (это тоже уже однозначное число) ... ok\n",
            "test_three_digit (__main__.TestMagicFunction)\n",
            "Тест для трехзначного числа ... ok\n",
            "test_two_digit (__main__.TestMagicFunction)\n",
            "Тест для двухзначного числа ... ok\n",
            "\n",
            "----------------------------------------------------------------------\n",
            "Ran 25 tests in 0.084s\n",
            "\n",
            "OK\n"
          ]
        }
      ],
      "source": [
        "def magic(n):\n",
        "    count = 0\n",
        "    while n >= 10:\n",
        "        res = 1\n",
        "        for char in str(n):\n",
        "            res *= int(char)\n",
        "        n = res\n",
        "        count += 1\n",
        "    return count\n",
        "\n",
        "\n",
        "class TestMagicFunction(unittest.TestCase):\n",
        "    def test_single_digit(self):\n",
        "        \"\"\"Тест для числа, состоящего из одной цифры\"\"\"\n",
        "        self.assertEqual(magic(4), 0)\n",
        "\n",
        "    def test_two_digit(self):\n",
        "        \"\"\"Тест для двухзначного числа\"\"\"\n",
        "        self.assertEqual(magic(22), 1)\n",
        "\n",
        "    def test_three_digit(self):\n",
        "        \"\"\"Тест для трехзначного числа\"\"\"\n",
        "        self.assertEqual(magic(39), 3)\n",
        "    def test_large_number(self):\n",
        "        \"\"\"Тест для большого числа\"\"\"\n",
        "        self.assertEqual(magic(999), 4)\n",
        "\n",
        "    def test_edge_case(self):\n",
        "        \"\"\"Тест для числа 0 (это особый случай)\"\"\"\n",
        "        self.assertEqual(magic(0), 0)\n",
        "\n",
        "    def test_single_digit_edge_case(self):\n",
        "        \"\"\"Тест для числа 1 (это тоже уже однозначное число)\"\"\"\n",
        "        self.assertEqual(magic(1), 0)\n",
        "    def test_non_trivial_case(self):\n",
        "        \"\"\"Тест для числа, требующего нескольких шагов\"\"\"\n",
        "        self.assertEqual(magic(987), 2)\n",
        "\n",
        "if __name__ == \"__main__\":\n",
        "    unittest.main(argv=[''], exit=False, verbosity=2)\n"
      ]
    },
    {
      "cell_type": "markdown",
      "metadata": {
        "id": "0nS-kIa8g8vd"
      },
      "source": [
        "# Задача 5\n",
        "Написать функцию, которая принимает два целочисленных вектора одинаковой длины и\n",
        "возвращает среднеквадратическое отклонение двух векторов. Написать тесты для кода"
      ]
    },
    {
      "cell_type": "code",
      "execution_count": 10,
      "metadata": {
        "id": "8iphx4LM6xbx",
        "colab": {
          "base_uri": "https://localhost:8080/"
        },
        "outputId": "90a3256d-e9aa-413f-a98b-6c89d4601bab"
      },
      "outputs": [
        {
          "output_type": "stream",
          "name": "stderr",
          "text": [
            "..............................\n",
            "----------------------------------------------------------------------\n",
            "Ran 30 tests in 0.078s\n",
            "\n",
            "OK\n"
          ]
        }
      ],
      "source": [
        "import math\n",
        "\n",
        "def mse(pred, true):\n",
        "    if len(pred) != len(true):\n",
        "        raise ValueError(\"Векторы должны быть одинаковой длины\")\n",
        "\n",
        "    if len(pred) == 0:\n",
        "        raise ValueError(\"Векторы не могут быть пустыми\")\n",
        "\n",
        "    sum_of_squares = sum((p - t) ** 2 for p, t in zip(pred, true))\n",
        "\n",
        "    return math.sqrt(sum_of_squares / len(pred))\n",
        "\n",
        "\n",
        "class TestMSE(unittest.TestCase):\n",
        "\n",
        "    def test_identical_vectors(self):\n",
        "        v1 = [1, 2, 3]\n",
        "        v2 = [1, 2, 3]\n",
        "        self.assertEqual(mse(v1, v2), 0.0)\n",
        "\n",
        "    def test_different_vectors(self):\n",
        "        v1 = [1, 2, 3]\n",
        "        v2 = [4, 5, 6]\n",
        "        result = mse(v1, v2)\n",
        "        expected = 3.0\n",
        "        self.assertTrue(math.isclose(result, expected, rel_tol=1e-9))\n",
        "\n",
        "    def test_edge_case(self):\n",
        "        v1 = [1]\n",
        "        v2 = [1]\n",
        "        self.assertEqual(mse(v1, v2), 0.0)\n",
        "\n",
        "    def test_empty_vectors(self):\n",
        "        v1 = []\n",
        "        v2 = []\n",
        "        with self.assertRaises(ValueError):\n",
        "            mse(v1, v2)\n",
        "\n",
        "    def test_different_length_vectors(self):\n",
        "        v1 = [1, 2, 3]\n",
        "        v2 = [1, 2]\n",
        "        with self.assertRaises(ValueError):\n",
        "            mse(v1, v2)\n",
        "\n",
        "if __name__ == \"__main__\":\n",
        "    unittest.main(argv=[''], exit=False)\n",
        "\n"
      ]
    },
    {
      "cell_type": "markdown",
      "metadata": {
        "id": "vpIPKL439zkw"
      },
      "source": [
        "# Задача 6\n",
        "Написать функцию, принимающая целое положительное число. Функция должна вернуть\n",
        "строку вида “(n1**p1)(n2**p2)…(nk**pk)” представляющая разложение числа на простые\n",
        "множители (если pi == 1, то выводить только ni).\n",
        "Например, для числа 86240 функция должна вернуть “(2**5)(5)(7**2)(11)”. Написать тесты для кода"
      ]
    },
    {
      "cell_type": "code",
      "execution_count": 11,
      "metadata": {
        "id": "pFebmcZk94Jw",
        "colab": {
          "base_uri": "https://localhost:8080/"
        },
        "outputId": "71f7e57a-4c76-4912-90b7-183d2a8afc8e"
      },
      "outputs": [
        {
          "output_type": "stream",
          "name": "stderr",
          "text": [
            "..............................\n",
            "----------------------------------------------------------------------\n",
            "Ran 30 tests in 0.055s\n",
            "\n",
            "OK\n"
          ]
        },
        {
          "output_type": "execute_result",
          "data": {
            "text/plain": [
              "<unittest.main.TestProgram at 0x790a28199360>"
            ]
          },
          "metadata": {},
          "execution_count": 11
        }
      ],
      "source": [
        "def prime_factorization(n):\n",
        "    factors = []\n",
        "    i = 2\n",
        "    while i * i <= n:\n",
        "        count = 0\n",
        "        while n % i == 0:\n",
        "            n //= i\n",
        "            count += 1\n",
        "        if count > 0:\n",
        "            factors.append((i, count))\n",
        "        i += 1\n",
        "    if n > 1:\n",
        "        factors.append((n, 1))\n",
        "    result = ''.join([f\"({base}{f'**{exp}' if exp > 1 else ''})\" for base, exp in factors])\n",
        "    return result\n",
        "\n",
        "class TestPrimeFactorization(unittest.TestCase):\n",
        "\n",
        "    def test_simple_case(self):\n",
        "        self.assertEqual(prime_factorization(86240), \"(2**5)(5)(7**2)(11)\")\n",
        "\n",
        "    def test_prime_number(self):\n",
        "        self.assertEqual(prime_factorization(7), \"(7)\")\n",
        "\n",
        "    def test_composite_number(self):\n",
        "        self.assertEqual(prime_factorization(30), \"(2)(3)(5)\")\n",
        "\n",
        "    def test_square_number(self):\n",
        "        self.assertEqual(prime_factorization(36), \"(2**2)(3**2)\")\n",
        "\n",
        "    def test_power_of_prime(self):\n",
        "        self.assertEqual(prime_factorization(64), \"(2**6)\")\n",
        "\n",
        "    def test_edge_case(self):\n",
        "        self.assertEqual(prime_factorization(1), \"\")\n",
        "\n",
        "    def test_large_number(self):\n",
        "        self.assertEqual(prime_factorization(1001), \"(7)(11)(13)\")\n",
        "\n",
        "if __name__ == \"__main__\":\n",
        "    unittest.main(argv=[''], exit=False)\n"
      ]
    },
    {
      "cell_type": "markdown",
      "metadata": {
        "id": "ps2s0BudX7A2"
      },
      "source": [
        "# Задача 7\n",
        "Написать функцию, принимающая целое число n, задающее количество кубиков. Функция\n",
        "должна определить, можно ли из данного кол-ва кубиков построить пирамиду, то есть\n",
        "можно ли представить число n как 1^2+2^2+3^2+…+k^2. Если можно, то функция должна\n",
        "вернуть k, иначе строку “It is impossible”. Написать тесты для кода"
      ]
    },
    {
      "cell_type": "code",
      "execution_count": 13,
      "metadata": {
        "id": "3YPjEXxhX_YT",
        "colab": {
          "base_uri": "https://localhost:8080/"
        },
        "outputId": "1f97dee1-33e6-4345-f82c-bce12790757f"
      },
      "outputs": [
        {
          "output_type": "stream",
          "name": "stderr",
          "text": [
            ".................................\n",
            "----------------------------------------------------------------------\n",
            "Ran 33 tests in 0.100s\n",
            "\n",
            "OK\n"
          ]
        }
      ],
      "source": [
        "def pyramid(number):\n",
        "    k = 1\n",
        "    total = 0\n",
        "\n",
        "    while total < number:\n",
        "        total += k ** 2\n",
        "        if total == number:\n",
        "            return k\n",
        "        k += 1\n",
        "\n",
        "    return \"It is impossible\"\n",
        "import unittest\n",
        "\n",
        "class TestPyramid(unittest.TestCase):\n",
        "\n",
        "    def test_valid_pyramid(self):\n",
        "        self.assertEqual(pyramid(14), 3)\n",
        "        self.assertEqual(pyramid(5), 2)\n",
        "        self.assertEqual(pyramid(30), 4)\n",
        "\n",
        "    def test_impossible_case(self):\n",
        "        self.assertEqual(pyramid(15), \"It is impossible\")\n",
        "\n",
        "\n",
        "    def test_edge_case(self):\n",
        "        self.assertEqual(pyramid(1), 1)  # 1^2 = 1\n",
        "        self.assertEqual(pyramid(0), \"It is impossible\")\n",
        "\n",
        "if __name__ == \"__main__\":\n",
        "    unittest.main(argv=[''], exit=False)\n"
      ]
    },
    {
      "cell_type": "markdown",
      "metadata": {
        "id": "KeKgmIdAQMEJ"
      },
      "source": [
        "# Задача 8\n",
        "Функция принимает на вход положительное число и определяет является ли оно сбалансированным, т.е. сумма цифр до средних равна сумме цифр после. Средними в случае нечетного числа цифр считать одну цифру, в случае четного - две средних. Написать тесты для кода"
      ]
    },
    {
      "cell_type": "code",
      "execution_count": 25,
      "metadata": {
        "id": "gMAAqtqlQrZt",
        "colab": {
          "base_uri": "https://localhost:8080/"
        },
        "outputId": "6c72c453-fd68-4860-eae2-e962d18bc12f"
      },
      "outputs": [
        {
          "output_type": "stream",
          "name": "stderr",
          "text": [
            ".........................................\n",
            "----------------------------------------------------------------------\n",
            "Ran 41 tests in 0.066s\n",
            "\n",
            "OK\n"
          ]
        }
      ],
      "source": [
        "def is_balanced(number):\n",
        "    num_str = str(number)\n",
        "    length = len(num_str)\n",
        "    mid = length // 2\n",
        "\n",
        "    if length % 2 == 0:\n",
        "        left = num_str[:mid]\n",
        "        right = num_str[mid:]\n",
        "    else:\n",
        "        left = num_str[:mid]\n",
        "        right = num_str[mid + 1:]\n",
        "\n",
        "    left_sum = sum(int(x) for x in left)\n",
        "    right_sum = sum(int(x) for x in right)\n",
        "\n",
        "    return left_sum == right_sum\n",
        "\n",
        "class TestIsBalanced(unittest.TestCase):\n",
        "    def test_even_balanced(self):\n",
        "        self.assertTrue(is_balanced(123321))\n",
        "\n",
        "    def test_even_unbalanced(self):\n",
        "        self.assertFalse(is_balanced(123421))\n",
        "\n",
        "    def test_odd_balanced(self):\n",
        "        self.assertTrue(is_balanced(12321))\n",
        "\n",
        "    def test_odd_unbalanced(self):\n",
        "        self.assertFalse(is_balanced(12341))\n",
        "\n",
        "    def test_single_digit(self):\n",
        "        self.assertTrue(is_balanced(7))\n",
        "\n",
        "    def test_two_digits(self):\n",
        "        self.assertTrue(is_balanced(11))\n",
        "        self.assertFalse(is_balanced(12))\n",
        "\n",
        "    def test_large_balanced(self):\n",
        "        self.assertFalse(is_balanced(1122334455667788))\n",
        "\n",
        "    def test_large_unbalanced(self):\n",
        "        self.assertTrue(is_balanced(12345678987654321))\n",
        "\n",
        "if __name__ == \"__main__\":\n",
        "    unittest.main(argv=[''], exit=False)\n"
      ]
    },
    {
      "cell_type": "code",
      "source": [],
      "metadata": {
        "id": "_eIFYbIqM8GE"
      },
      "execution_count": null,
      "outputs": []
    }
  ],
  "metadata": {
    "colab": {
      "provenance": []
    },
    "kernelspec": {
      "display_name": "Python 3 (ipykernel)",
      "language": "python",
      "name": "python3"
    },
    "language_info": {
      "codemirror_mode": {
        "name": "ipython",
        "version": 3
      },
      "file_extension": ".py",
      "mimetype": "text/x-python",
      "name": "python",
      "nbconvert_exporter": "python",
      "pygments_lexer": "ipython3",
      "version": "3.11.7"
    }
  },
  "nbformat": 4,
  "nbformat_minor": 0
}